{
 "cells": [
  {
   "cell_type": "markdown",
   "source": [
    "# Урок 6. Сравнение долей. Построение доверительного интервала"
   ],
   "metadata": {
    "collapsed": false
   }
  },
  {
   "cell_type": "markdown",
   "source": [
    "Импорт необходимых библиотек:"
   ],
   "metadata": {
    "collapsed": false
   }
  },
  {
   "cell_type": "code",
   "execution_count": 226,
   "outputs": [],
   "source": [
    "import numpy as np\n",
    "import scipy.stats as stats"
   ],
   "metadata": {
    "collapsed": false
   }
  },
  {
   "cell_type": "markdown",
   "source": [
    "## Задача №1"
   ],
   "metadata": {
    "collapsed": false
   }
  },
  {
   "cell_type": "markdown",
   "source": [
    "_Известно, что генеральная совокупность распределена нормально со средним квадратическим отклонением, равным __16__.\n",
    "Найти доверительный интервал для оценки математического ожидания a с надежностью __0.95__, если выборочная средняя __M = 80__, а объем выборки __n = 256.___"
   ],
   "metadata": {
    "collapsed": false
   }
  },
  {
   "cell_type": "markdown",
   "source": [
    "Если известна сигма генеральной совокупности, доверительный интервал рассчитывается с помощью Z-критерия."
   ],
   "metadata": {
    "collapsed": false
   }
  },
  {
   "cell_type": "code",
   "execution_count": 227,
   "outputs": [
    {
     "name": "stdout",
     "output_type": "stream",
     "text": [
      "z = 1.96\n"
     ]
    }
   ],
   "source": [
    "sigma = 16\n",
    "p = 0.95\n",
    "M = 80\n",
    "n = 256\n",
    "alpha = np.round(1 - p, 2)\n",
    "\n",
    "# Z-критерий для 95% доверительного интервала, согласно таблице, соответствует значению 1,96.\n",
    "z = abs(stats.norm.ppf(alpha / 2))\n",
    "print(f'z = {z:.2f}')"
   ],
   "metadata": {
    "collapsed": false
   }
  },
  {
   "cell_type": "code",
   "execution_count": 228,
   "outputs": [
    {
     "name": "stdout",
     "output_type": "stream",
     "text": [
      "min_border = 80 - 1.96 * 16 / 256 ** 0.5\n",
      "max_border = 80 + 1.96 * 16 / 256 ** 0.5\n",
      "\n",
      "Доверительный интервал для величины M: [78.04 ; 81.96]\n"
     ]
    }
   ],
   "source": [
    "min_border = M - z * sigma / np.sqrt(n)\n",
    "max_border = M + z * sigma / np.sqrt(n)\n",
    "print(f'min_border = {M} - {z:.2f} * {sigma} / {n} ** 0.5')\n",
    "print(f'max_border = {M} + {z:.2f} * {sigma} / {n} ** 0.5')\n",
    "print(f'\\nДоверительный интервал для величины M: [{min_border:.2f} ; {max_border:.2f}]')"
   ],
   "metadata": {
    "collapsed": false
   }
  },
  {
   "cell_type": "markdown",
   "source": [
    "## Задача №2"
   ],
   "metadata": {
    "collapsed": false
   }
  },
  {
   "cell_type": "markdown",
   "source": [
    "_В результате 10 независимых измерений некоторой величины X, выполненных с одинаковой точностью, получены опытные данные:\n",
    "__6.9, 6.1, 6.2, 6.8, 7.5, 6.3, 6.4, 6.9, 6.7, 6.1__\n",
    "Предполагая, что результаты измерений подчинены нормальному закону распределения вероятностей, оценить истинное значение\n",
    "величины X при помощи доверительного интервала, покрывающего это значение с доверительной вероятностью 0,95._"
   ],
   "metadata": {
    "collapsed": false
   }
  },
  {
   "cell_type": "code",
   "execution_count": 229,
   "outputs": [
    {
     "name": "stdout",
     "output_type": "stream",
     "text": [
      "Среднее арифметическое: 6.59\n",
      "Средне квадратичное отклонение: 0.451\n",
      "Значение t-критерия для 95.0% доверительного интервала: 2.262\n",
      "\n",
      "min_border = 6.59 - 2.262 * 0.451 / 10 ** 0.5\n",
      "max_border = 6.59 + 2.262 * 0.451 / 10 ** 0.5\n",
      "\n",
      "Доверительный интервал для величины X: [6.268 ; 6.912]\n"
     ]
    }
   ],
   "source": [
    "input_arr = [6.9, 6.1, 6.2, 6.8, 7.5, 6.3, 6.4, 6.9, 6.7, 6.1]\n",
    "p = 0.95\n",
    "alpha = np.round(1 - p, 2)\n",
    "n = len(input_arr)\n",
    "\n",
    "X = np.mean(input_arr)\n",
    "print(f'Среднее арифметическое: {X:.2f}')\n",
    "\n",
    "sigma = np.std(input_arr, ddof=1)\n",
    "print(f'Средне квадратичное отклонение: {sigma:.3f}')\n",
    "\n",
    "t = abs(stats.t.ppf(alpha / 2, df=n - 1))\n",
    "print(f'Значение t-критерия для {p * 100}% доверительного интервала: {t:.3f}\\n')\n",
    "\n",
    "min_border_2 = X - t * sigma / np.sqrt(n)\n",
    "max_border_2 = X + t * sigma / np.sqrt(n)\n",
    "print(f'min_border = {X:.2f} - {t:.3f} * {sigma:.3f} / {n} ** 0.5')\n",
    "print(f'max_border = {X:.2f} + {t:.3f} * {sigma:.3f} / {n} ** 0.5')\n",
    "print(f'\\nДоверительный интервал для величины X: [{min_border_2:.3f} ; {max_border_2:.3f}]')"
   ],
   "metadata": {
    "collapsed": false
   }
  },
  {
   "cell_type": "markdown",
   "source": [
    "## Задача №3"
   ],
   "metadata": {
    "collapsed": false
   }
  },
  {
   "cell_type": "markdown",
   "source": [
    "_Рост дочерей __175, 167, 154, 174, 178, 148, 160, 167, 169, 170__\n",
    "Рост матерей  __178, 165, 165, 173, 168, 155, 160, 164, 178, 175__\n",
    "Используя эти данные построить 95% доверительный интервал для разности среднего роста родителей и детей._"
   ],
   "metadata": {
    "collapsed": false
   }
  },
  {
   "cell_type": "code",
   "execution_count": 230,
   "outputs": [
    {
     "name": "stdout",
     "output_type": "stream",
     "text": [
      "95% доверительный интервал для разницы в среднем росте между родителями и детьми: [-6.268, 10.068]\n"
     ]
    }
   ],
   "source": [
    "H_m = np.array([178, 165, 165, 173, 168, 155, 160, 164, 178, 175])\n",
    "H_d = np.array([175, 167, 154, 174, 178, 148, 160, 167, 169, 170])\n",
    "\n",
    "delta = np.mean(H_m) - np.mean(H_d)\n",
    "\n",
    "D_m = np.var(H_m, ddof=1)\n",
    "D_d = np.var(H_d, ddof=1)\n",
    "\n",
    "SE = np.sqrt(D_m / len(H_m) + D_d / len(H_d))\n",
    "t = stats.t.ppf(0.975, (len(H_m) - 1) + (len(H_d) - 1))\n",
    "\n",
    "min_border = delta - t * SE\n",
    "max_border = delta + t * SE\n",
    "\n",
    "print(f'95% доверительный интервал для разницы в среднем росте между родителями и детьми: [{min_border:.3f}, {max_border:.3f}]')"
   ],
   "metadata": {
    "collapsed": false
   }
  }
 ],
 "metadata": {
  "kernelspec": {
   "display_name": "Python 3",
   "language": "python",
   "name": "python3"
  },
  "language_info": {
   "codemirror_mode": {
    "name": "ipython",
    "version": 2
   },
   "file_extension": ".py",
   "mimetype": "text/x-python",
   "name": "python",
   "nbconvert_exporter": "python",
   "pygments_lexer": "ipython2",
   "version": "2.7.6"
  }
 },
 "nbformat": 4,
 "nbformat_minor": 0
}
