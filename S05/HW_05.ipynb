{
 "cells": [
  {
   "cell_type": "markdown",
   "source": [
    "# Урок 5. Тестирование гипотез"
   ],
   "metadata": {
    "collapsed": false
   }
  },
  {
   "cell_type": "markdown",
   "source": [
    "Импорт необходимых библиотек:"
   ],
   "metadata": {
    "collapsed": false
   }
  },
  {
   "cell_type": "code",
   "execution_count": 1,
   "outputs": [],
   "source": [
    "import numpy as np\n",
    "import scipy.stats as stats\n",
    "import math"
   ],
   "metadata": {
    "collapsed": false
   }
  },
  {
   "cell_type": "markdown",
   "source": [
    "## Задача №1"
   ],
   "metadata": {
    "collapsed": false
   }
  },
  {
   "cell_type": "markdown",
   "source": [
    "_Когда используется критерий Стьюдента, а когда Z – критерий?_"
   ],
   "metadata": {
    "collapsed": false
   }
  },
  {
   "cell_type": "markdown",
   "source": [
    "Критерий Стьюдента используется для оценки статистической значимости различий между двумя выборками, когда известны только их средние и стандартные отклонения.\n",
    "\n",
    "Z-критерий используется для оценки статистической значимости различий между двумя выборками, когда известны их средние, стандартные отклонения и размеры выборок, а также когда данные распределены нормально или выборки достаточно большие."
   ],
   "metadata": {
    "collapsed": false
   }
  },
  {
   "cell_type": "markdown",
   "source": [
    "## Задача №2"
   ],
   "metadata": {
    "collapsed": false
   }
  },
  {
   "cell_type": "markdown",
   "source": [
    "_Проведите тест гипотезы.\n",
    "Утверждается, что шарики для подшипников, изготовленные автоматическим станком,имеют средний диаметр 17 мм.\n",
    "Используя односторонний критерий с α=0,05, проверить эту гипотезу, если в выборке из n=100 шариков средний диаметр оказался равным 17.5 мм, а дисперсия известна и равна 4 кв. мм._\n",
    "\n",
    "[Таблица значений функции Лапласа](https://www.matematicus.ru/teoriya-veroyatnosti/tablitsy/tablitsa-znachenij-funktsii-laplasa)"
   ],
   "metadata": {
    "collapsed": false
   }
  },
  {
   "cell_type": "code",
   "execution_count": 36,
   "outputs": [
    {
     "name": "stdout",
     "output_type": "stream",
     "text": [
      "Гипотеза H1 - Верна\n"
     ]
    }
   ],
   "source": [
    "# H0: M(X) = 17\n",
    "# H1: M(X) > 17\n",
    "\n",
    "lambda_ = 0.95\n",
    "\n",
    "D = 4\n",
    "S = np.sqrt(4)\n",
    "M = 17\n",
    "x = 17.5\n",
    "n = 100\n",
    "\n",
    "t_lambda_ = ((x - M) / S) * np.sqrt(n)\n",
    "\n",
    "t_critical_ = 1.645\n",
    "\n",
    "if t_lambda_ <= t_critical_:\n",
    "    print('Гипотеза H0 - Верна')\n",
    "else:\n",
    "    print('Гипотеза H1 - Верна')"
   ],
   "metadata": {
    "collapsed": false
   }
  },
  {
   "cell_type": "markdown",
   "source": [
    "## Задача №3"
   ],
   "metadata": {
    "collapsed": false
   }
  },
  {
   "cell_type": "markdown",
   "source": [
    "_Проведите тест гипотезы.\n",
    "Продавец утверждает, что средний вес пачки печенья составляет 200 г. Из партии извлечена выборка из 10 пачек.\n",
    "Вес каждой пачки составляет: 202, 203, 199, 197, 195, 201, 200, 204, 194, 190. Известно, что их веса распределены нормально.\n",
    "Верно ли утверждение продавца, если учитывать, что доверительная вероятность равна 99%?\n",
    "(Провести двусторонний тест.)_\n",
    "\n",
    "[Таблица значений критерия Стьюдента (t-критерия)](https://www.matematicus.ru/teoriya-veroyatnosti/tablitsy/tablitsa-znachenij-kriteriya-styudenta-t-kriteriya)"
   ],
   "metadata": {
    "collapsed": false
   }
  },
  {
   "cell_type": "code",
   "execution_count": 37,
   "outputs": [
    {
     "name": "stdout",
     "output_type": "stream",
     "text": [
      "x_mean = 198.5\n",
      "x_std = 4.453463071962462\n",
      "t_lambda_ = 1.0651074037450896\n",
      "t_critical_ = 3.2498355440153697\n",
      "\n",
      "Гипотеза H0 - Верна\n"
     ]
    }
   ],
   "source": [
    "# H0: M(X) = 200\n",
    "# H1: M(X) != 200\n",
    "\n",
    "lambda_ = 0.99\n",
    "\n",
    "n = 10\n",
    "m = 200\n",
    "x = np.array([202, 203, 199, 197, 195, 201, 200, 204, 194, 190])\n",
    "x_mean = x.mean()\n",
    "x_std = x.std(ddof=1)\n",
    "\n",
    "print(f'x_mean = {x_mean}\\nx_std = {x_std}')\n",
    "\n",
    "t_lambda_ = abs(((x_mean - m) / x_std) * np.sqrt(n))\n",
    "\n",
    "print(f't_lambda_ = {t_lambda_}')\n",
    "\n",
    "# по таблице значений критерия Стьюдента\n",
    "t_critical_ = 3.2498\n",
    "# проверка\n",
    "print(f't_critical_ = {stats.t.ppf(1 - 0.01 / 2, df=len(x) - 1)}\\n')\n",
    "\n",
    "if t_lambda_ <= t_critical_:\n",
    "    print('Гипотеза H0 - Верна')\n",
    "else:\n",
    "    print('Гипотеза H1 - Верна')"
   ],
   "metadata": {
    "collapsed": false
   }
  },
  {
   "cell_type": "markdown",
   "source": [
    "## Задача №4"
   ],
   "metadata": {
    "collapsed": false
   }
  },
  {
   "cell_type": "markdown",
   "source": [
    "_Задачу решать с помощью функции.\n",
    "Есть ли статистически значимые различия в росте дочерей и матерей?\n",
    "Рост матерей           172, 177, 158, 170, 178, 175, 164, 160, 169, 165\n",
    "Рост взрослых дочерей: 173, 175, 162, 174, 175, 168, 155, 170, 160_\n",
    "\n",
    "*Выборки из условия задачи имеют неэквивалентную длину, поэтому уберем последнее значение из большей выборки."
   ],
   "metadata": {
    "collapsed": false
   }
  },
  {
   "cell_type": "markdown",
   "source": [
    "Принимаем α = 0.05\n",
    "Используем двух-выборочную t-проверку"
   ],
   "metadata": {
    "collapsed": false
   }
  },
  {
   "cell_type": "code",
   "execution_count": 38,
   "outputs": [
    {
     "data": {
      "text/plain": "TtestResult(statistic=0.559522990335608, pvalue=0.5911212354055175, df=8)"
     },
     "execution_count": 38,
     "metadata": {},
     "output_type": "execute_result"
    }
   ],
   "source": [
    "H_m = [172, 177, 158, 170, 178, 175, 164, 160, 169]\n",
    "H_d = [173, 175, 162, 174, 175, 168, 155, 170, 160]\n",
    "stats.ttest_rel(H_m, H_d)"
   ],
   "metadata": {
    "collapsed": false
   }
  },
  {
   "cell_type": "markdown",
   "source": [
    "Статистически значимых различий не обнаружено т.к. pvalue > α.\n",
    "Нулевая гипотеза H0 не опровергается, а значит верна."
   ],
   "metadata": {
    "collapsed": false
   }
  }
 ],
 "metadata": {
  "kernelspec": {
   "display_name": "Python 3",
   "language": "python",
   "name": "python3"
  },
  "language_info": {
   "codemirror_mode": {
    "name": "ipython",
    "version": 2
   },
   "file_extension": ".py",
   "mimetype": "text/x-python",
   "name": "python",
   "nbconvert_exporter": "python",
   "pygments_lexer": "ipython2",
   "version": "2.7.6"
  }
 },
 "nbformat": 4,
 "nbformat_minor": 0
}
