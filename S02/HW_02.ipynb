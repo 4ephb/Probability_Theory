{
 "cells": [
  {
   "cell_type": "markdown",
   "metadata": {},
   "source": [
    "# Урок 2. Дискретные распределения вероятностей"
   ]
  },
  {
   "cell_type": "markdown",
   "metadata": {},
   "source": [
    "Импорт необходимых библиотек:"
   ]
  },
  {
   "cell_type": "code",
   "execution_count": 91,
   "metadata": {},
   "outputs": [],
   "source": [
    "import numpy as np\n",
    "from math import factorial"
   ]
  },
  {
   "cell_type": "markdown",
   "metadata": {},
   "source": [
    "Формула комбинаторики, сочетания:"
   ]
  },
  {
   "cell_type": "code",
   "execution_count": 92,
   "metadata": {},
   "outputs": [],
   "source": [
    "def combinations(n, k):\n",
    "    return int(factorial(n) / (factorial(k) * factorial(n - k)))"
   ]
  },
  {
   "cell_type": "markdown",
   "metadata": {},
   "source": [
    "Формула Бернулли:"
   ]
  },
  {
   "cell_type": "code",
   "execution_count": 93,
   "metadata": {},
   "outputs": [],
   "source": [
    "def bernoulli(n, k, p):\n",
    "    return combinations(n, k) * (p**k) * ((1-p)**(n-k))"
   ]
  },
  {
   "cell_type": "markdown",
   "metadata": {},
   "source": [
    "Формула Пуассона:"
   ]
  },
  {
   "cell_type": "code",
   "execution_count": 94,
   "metadata": {},
   "outputs": [],
   "source": [
    "def poisson(n, p, m):\n",
    "    l = n * p\n",
    "    return (l ** m / np.math.factorial(m)) * np.exp(-l)"
   ]
  },
  {
   "cell_type": "markdown",
   "metadata": {},
   "source": [
    "## Задача №1"
   ]
  },
  {
   "cell_type": "markdown",
   "metadata": {},
   "source": [
    "_Вероятность того, что стрелок попадет в мишень, выстрелив один раз, равна 0.8. Стрелок выстрелил 100 раз. Найдите вероятность того, что стрелок попадет в цель ровно 85 раз._"
   ]
  },
  {
   "cell_type": "markdown",
   "metadata": {},
   "source": [
    "Очевидно, что испытания независимы, и случайная величина (X) распределена по биномиальному закону.\n",
    "Составим ряд распределений данной случайной величины. Используем формулу Бернулли:"
   ]
  },
  {
   "cell_type": "code",
   "execution_count": 95,
   "metadata": {},
   "outputs": [
    {
     "name": "stdout",
     "output_type": "stream",
     "text": [
      "0.048061793700746355\n",
      "4.81%\n"
     ]
    }
   ],
   "source": [
    "p1 = 0.8\n",
    "k1 = 85\n",
    "n1 = 100\n",
    "X1 = bernoulli(n1, k1, p1)\n",
    "print(f'{X1}\\n{round(X1, 4) * 100}%')"
   ]
  },
  {
   "cell_type": "markdown",
   "metadata": {},
   "source": [
    "## Задача №2"
   ]
  },
  {
   "cell_type": "markdown",
   "metadata": {},
   "source": [
    "_Вероятность того, что лампочка перегорит в течение первого дня эксплуатации, равна 0.0004. В жилом комплексе после ремонта в один день включили 5000 новых лампочек._"
   ]
  },
  {
   "cell_type": "markdown",
   "metadata": {},
   "source": [
    "#### _a) Какова вероятность, что ни одна из них не перегорит в первый день?_"
   ]
  },
  {
   "cell_type": "markdown",
   "metadata": {},
   "source": [
    "Количество испытаний (n) достаточно велико, а вероятность (p) появления события (X) в отдельно взятом испытании весьма мала (0,05-0,1 и меньше), то вероятность того, что в данной серии испытаний событие (X) появится ровно (m) раз, можно вычислить по формуле Пуассона:"
   ]
  },
  {
   "cell_type": "code",
   "execution_count": 96,
   "metadata": {},
   "outputs": [
    {
     "name": "stdout",
     "output_type": "stream",
     "text": [
      "0.1353352832366127\n",
      "13.5%\n"
     ]
    }
   ],
   "source": [
    "n2 = 5000\n",
    "p2 = 0.0004\n",
    "m0 = 0\n",
    "X0 = poisson(n2, p2, m0)\n",
    "print(f'{X0}\\n{round(X0, 3) * 100}%')"
   ]
  },
  {
   "cell_type": "markdown",
   "metadata": {},
   "source": [
    "#### _б) Какова вероятность, что перегорят ровно две?_"
   ]
  },
  {
   "cell_type": "code",
   "execution_count": 97,
   "metadata": {},
   "outputs": [
    {
     "name": "stdout",
     "output_type": "stream",
     "text": [
      "0.2706705664732254\n",
      "27.1%\n"
     ]
    }
   ],
   "source": [
    "m2 = 2\n",
    "X2 = poisson(n2, p2, m2)\n",
    "print(f'{X2}\\n{round(X2, 3) * 100}%')"
   ]
  },
  {
   "cell_type": "markdown",
   "metadata": {},
   "source": [
    "## Задача №3"
   ]
  },
  {
   "cell_type": "markdown",
   "metadata": {},
   "source": [
    "_Монету подбросили 144 раза. Какова вероятность, что орел выпадет ровно 70 раз?_"
   ]
  },
  {
   "cell_type": "markdown",
   "metadata": {},
   "source": [
    "Очевидно, что испытания независимы, и случайная величина (X) распределена по биномиальному закону. Составим ряд распределений данной случайной величины. Снова используем формулу Бернулли:"
   ]
  },
  {
   "cell_type": "code",
   "execution_count": 98,
   "metadata": {},
   "outputs": [
    {
     "name": "stdout",
     "output_type": "stream",
     "text": [
      "0.06281178035144776\n",
      "6.3%\n"
     ]
    }
   ],
   "source": [
    "p3 = 0.5\n",
    "k3 = 70\n",
    "n3 = 144\n",
    "X3 = bernoulli(n3, k3, p3)\n",
    "print(f'{X3}\\n{round(X3, 3) * 100}%')"
   ]
  },
  {
   "cell_type": "markdown",
   "metadata": {},
   "source": [
    "## Задача №4"
   ]
  },
  {
   "cell_type": "markdown",
   "metadata": {},
   "source": [
    "_В первом ящике находится 10 мячей, из которых 7 - белые. Во втором ящике - 11 мячей, из которых 9 белых. Из каждого ящика вытаскивают случайным образом по два мяча._"
   ]
  },
  {
   "cell_type": "markdown",
   "metadata": {},
   "source": [
    "#### _а) Какова вероятность того, что все мячи белые?_"
   ]
  },
  {
   "cell_type": "markdown",
   "metadata": {},
   "source": [
    "Извлекаем 2 белых шара из первого ящика (7/10 и 6/9) и 2 белых шара из второго ящика (9/11 и 8/10):"
   ]
  },
  {
   "cell_type": "code",
   "execution_count": 99,
   "metadata": {},
   "outputs": [
    {
     "name": "stdout",
     "output_type": "stream",
     "text": [
      "0.3054545454545454\n",
      "30.5%\n"
     ]
    }
   ],
   "source": [
    "X4_1 = 7/10 * 6/9 * 9/11 * 8/10\n",
    "print(f'{X4_1}\\n{round(X4_1, 3) * 100}%')"
   ]
  },
  {
   "cell_type": "markdown",
   "metadata": {},
   "source": [
    "#### _б) Какова вероятность того, что ровно два мяча белые?_"
   ]
  },
  {
   "cell_type": "markdown",
   "metadata": {},
   "source": [
    "При текущих условиях задачи, найдём сумму нескольких комбинаций:  \n",
    "    1) 2 БЕЛЫХ из первого ящика (7/10 и 6/9) и 2 НЕ БЕЛЫХ из второго ящика (2/11 и 1/10)\n",
    "    2) 2 Не БЕЛЫХ из первого ящика (3/10 и 2/9) и 2 БЕЛЫХ из второго ящика (9/11 и 8/10)  \n",
    "    3) 1 БЕЛЫЙ шар и 1 НЕ БЕЛЫЙ шар из каждого ящика  "
   ]
  },
  {
   "cell_type": "code",
   "execution_count": 100,
   "metadata": {},
   "outputs": [
    {
     "name": "stdout",
     "output_type": "stream",
     "text": [
      "0.20484848484848484\n",
      "20.5%\n"
     ]
    }
   ],
   "source": [
    "X4_2_1 = 7/10 * 6/9 * 2/11 * 1/10\n",
    "X4_2_2 = 3/10 * 2/9 * 9/11 * 8/10\n",
    "X4_2_3 = ((7/10 * 3/9) + (3/10 * 7/9)) * ((9/11 * 2/10) + (2/11 * 9/10))\n",
    "X4_2 = X4_2_1 + X4_2_2 + X4_2_3\n",
    "print(f'{X4_2}\\n{round(X4_2, 3) * 100}%')"
   ]
  },
  {
   "cell_type": "markdown",
   "metadata": {},
   "source": [
    "#### _в) Какова вероятность того, что хотя бы один мяч белый?_"
   ]
  },
  {
   "cell_type": "markdown",
   "metadata": {},
   "source": [
    "В условиях этой задачи необходимо определить сумму вероятностей всех возможных комбинаций того, что хотя бы один мяч белый из четырех извлеченных. Учитывая, что данная вероятность является обратной вероятностью того, что извлеченные мячи из двух ящиков не содержат ни одного белого шара, то найдём эту вероятность и вычтем из единицы."
   ]
  },
  {
   "cell_type": "code",
   "execution_count": 101,
   "metadata": {},
   "outputs": [
    {
     "name": "stdout",
     "output_type": "stream",
     "text": [
      "0.9987878787878788\n",
      "99.9%\n"
     ]
    }
   ],
   "source": [
    "X4_3 = 1 - 3/10 * 2/9 * 2/11 * 1/10\n",
    "print(f'{X4_3}\\n{round(X4_3, 3) * 100}%')"
   ]
  }
 ],
 "metadata": {
  "kernelspec": {
   "display_name": "Python 3 (ipykernel)",
   "language": "python",
   "name": "python3"
  },
  "language_info": {
   "codemirror_mode": {
    "name": "ipython",
    "version": 3
   },
   "file_extension": ".py",
   "mimetype": "text/x-python",
   "name": "python",
   "nbconvert_exporter": "python",
   "pygments_lexer": "ipython3",
   "version": "3.10.9"
  }
 },
 "nbformat": 4,
 "nbformat_minor": 1
}
