{
 "cells": [
  {
   "cell_type": "markdown",
   "source": [
    "# Урок 3. EDA (exploratory data analysis) или Разведочный анализ"
   ],
   "metadata": {
    "collapsed": false
   }
  },
  {
   "cell_type": "markdown",
   "source": [
    "Импорт необходимых библиотек:"
   ],
   "metadata": {
    "collapsed": false
   }
  },
  {
   "cell_type": "code",
   "execution_count": 84,
   "outputs": [],
   "source": [
    "from math import sqrt"
   ],
   "metadata": {
    "collapsed": false
   }
  },
  {
   "cell_type": "markdown",
   "source": [
    "## Задача №1"
   ],
   "metadata": {
    "collapsed": false
   }
  },
  {
   "cell_type": "markdown",
   "source": [
    "_Даны значения зарплат из выборки выпускников: 100, 80, 75, 77, 89, 33, 45, 25, 65, 17, 30, 24, 57, 55, 70, 75, 65, 84, 90, 150._\n",
    "_Посчитать (желательно без использования статистических методов наподобие std, var, mean):_\n",
    "- _среднее арифметическое,_\n",
    "- _среднее квадратичное отклонение,_\n",
    "- _смещенную и несмещенную оценки дисперсий для данной выборки._"
   ],
   "metadata": {
    "collapsed": false
   }
  },
  {
   "cell_type": "code",
   "execution_count": 85,
   "outputs": [],
   "source": [
    "array = [100, 80, 75, 77, 89, 33, 45, 25, 65, 17, 30, 24, 57, 55, 70, 75, 65, 84, 90, 150]"
   ],
   "metadata": {
    "collapsed": false
   }
  },
  {
   "cell_type": "markdown",
   "source": [
    "#### Среднее арифметическое"
   ],
   "metadata": {
    "collapsed": false
   }
  },
  {
   "cell_type": "code",
   "execution_count": 86,
   "outputs": [
    {
     "name": "stdout",
     "output_type": "stream",
     "text": [
      "Среднее арифметическое: 65.3\n"
     ]
    }
   ],
   "source": [
    "n = len(array)\n",
    "array_sum = 0\n",
    "for numb in array:\n",
    "    array_sum = array_sum + numb\n",
    "arithmetic_mean = array_sum / n\n",
    "print(f'Среднее арифметическое: {arithmetic_mean}')"
   ],
   "metadata": {
    "collapsed": false
   }
  },
  {
   "cell_type": "markdown",
   "source": [
    "#### Среднее квадратичное отклонение"
   ],
   "metadata": {
    "collapsed": false
   }
  },
  {
   "cell_type": "code",
   "execution_count": 87,
   "outputs": [
    {
     "name": "stdout",
     "output_type": "stream",
     "text": [
      "Среднее квадратичное отклонение: 30.823854398825596\n"
     ]
    }
   ],
   "source": [
    "std_dev_sum = 0\n",
    "for numb in array:\n",
    "    std_dev_sum = std_dev_sum + ((numb - arithmetic_mean) ** 2)\n",
    "std_dev = sqrt(std_dev_sum / n)\n",
    "print(f'Среднее квадратичное отклонение: {std_dev}')"
   ],
   "metadata": {
    "collapsed": false
   }
  },
  {
   "cell_type": "markdown",
   "source": [
    "#### Смещенную и несмещенную оценки дисперсий для данной выборки"
   ],
   "metadata": {
    "collapsed": false
   }
  },
  {
   "cell_type": "code",
   "execution_count": 88,
   "outputs": [
    {
     "name": "stdout",
     "output_type": "stream",
     "text": [
      "Смещенная оценка дисперсии: 30.823854398825596\n"
     ]
    }
   ],
   "source": [
    "std_s = sqrt(std_dev_sum / n)\n",
    "print(f'Смещенная оценка дисперсии: {std_s}')"
   ],
   "metadata": {
    "collapsed": false
   }
  },
  {
   "cell_type": "code",
   "execution_count": 89,
   "outputs": [
    {
     "name": "stdout",
     "output_type": "stream",
     "text": [
      "Несмещенная оценка дисперсии: 31.624607341019814\n"
     ]
    }
   ],
   "source": [
    "std_ns = sqrt(std_dev_sum / (n - 1))\n",
    "print(f'Несмещенная оценка дисперсии: {std_ns}')"
   ],
   "metadata": {
    "collapsed": false
   }
  },
  {
   "cell_type": "markdown",
   "source": [
    "## Задача №2"
   ],
   "metadata": {
    "collapsed": false
   }
  },
  {
   "cell_type": "markdown",
   "source": [
    "_В первом ящике находится 8 мячей, из которых 5 - белые. Во втором ящике - 12 мячей, из которых 5 белых.\n",
    "Из первого ящика вытаскивают случайным образом два мяча, из второго - 4.\n",
    "Какова вероятность того, что 3 мяча белые?_"
   ],
   "metadata": {
    "collapsed": false
   }
  },
  {
   "cell_type": "markdown",
   "source": [
    "Определим какие существуют варианты вытащить 2 белых мяча:\n",
    "- 2 белых из первого и 1 белый и 3 обычных из второго\n",
    "- 1 белый и 1 обычный из первого и 2 белых и 2 обычных из второго\n",
    "- 0 белых и 2 обычных из первого и 3 белых и 1 обычный из второго\n",
    "- 0 белых и 2 обычных из первого и 4 белых из второго"
   ],
   "metadata": {
    "collapsed": false
   }
  },
  {
   "cell_type": "code",
   "execution_count": 90,
   "outputs": [
    {
     "name": "stdout",
     "output_type": "stream",
     "text": [
      "0.055239898989898985\n",
      "5.52%\n"
     ]
    }
   ],
   "source": [
    "p2_1 = 5/8 * 4/7 * 5/12 * 7/11 * 6/10 * 5/9\n",
    "p2_2 = 5/8 * 3/7 * 5/12 * 4/11 * 7/10 * 6/9\n",
    "p2_3 = 3/8 * 2/7 * 5/12 * 4/11 * 3/10 * 7/9\n",
    "p2_4 = 3/8 * 2/8 * 5/12 * 4/11 * 3/10 * 2/9\n",
    "P2 = p2_1 + p2_2 + p2_3 + p2_4\n",
    "print(f'{P2}\\n{round(P2, 4) * 100}%')"
   ],
   "metadata": {
    "collapsed": false
   }
  },
  {
   "cell_type": "markdown",
   "source": [
    "## Задача №3"
   ],
   "metadata": {
    "collapsed": false
   }
  },
  {
   "cell_type": "markdown",
   "source": [
    "_На соревновании по биатлону один из трех спортсменов стреляет и попадает в мишень.\n",
    "Вероятность попадания для первого спортсмена равна 0.9, для второго — 0.8, для третьего — 0.6.\n",
    "Найти вероятность того, что выстрел произведен:_\n",
    "_а) первым спортсменом\n",
    "б) вторым спортсменом\n",
    "в) третьим спортсменом._"
   ],
   "metadata": {
    "collapsed": false
   }
  },
  {
   "cell_type": "markdown",
   "source": [
    "Событие А - попадание в мишень.\n",
    "B1, B2, B3 - выстрелы спортсменом 1, 2, 3. (1/3)"
   ],
   "metadata": {
    "collapsed": false
   }
  },
  {
   "cell_type": "code",
   "execution_count": 91,
   "outputs": [],
   "source": [
    "z3_p1 = 0.9\n",
    "z3_p2 = 0.8\n",
    "z3_p3 = 0.6\n",
    "z3_B1 = 1/3\n",
    "z3_B2 = 1/3\n",
    "z3_B3 = 1/3"
   ],
   "metadata": {
    "collapsed": false
   }
  },
  {
   "cell_type": "markdown",
   "source": [
    "#### Вероятность попадания в мишень:"
   ],
   "metadata": {
    "collapsed": false
   }
  },
  {
   "cell_type": "code",
   "execution_count": 92,
   "outputs": [
    {
     "name": "stdout",
     "output_type": "stream",
     "text": [
      "Вероятность попадания в мишень: 0.7666666666666666%\n"
     ]
    }
   ],
   "source": [
    "z3_PA = z3_B1 * z3_p1 + z3_B2 * z3_p2 + z3_B3 * z3_p3\n",
    "print(f'Вероятность попадания в мишень: {z3_PA}%')"
   ],
   "metadata": {
    "collapsed": false
   }
  },
  {
   "cell_type": "markdown",
   "source": [
    "Воспользуемся формулой Байеса для полной вероятности."
   ],
   "metadata": {
    "collapsed": false
   }
  },
  {
   "cell_type": "markdown",
   "source": [
    "#### Вероятность того, что выстрел произведен спортсменом 1:"
   ],
   "metadata": {
    "collapsed": false
   }
  },
  {
   "cell_type": "code",
   "execution_count": 93,
   "outputs": [
    {
     "name": "stdout",
     "output_type": "stream",
     "text": [
      "0.391304347826087\n",
      "39.1%\n"
     ]
    }
   ],
   "source": [
    "z3_PB1A = (z3_B1 * z3_p1)/z3_PA\n",
    "print(f'{z3_PB1A}\\n{round(z3_PB1A, 3) * 100}%')"
   ],
   "metadata": {
    "collapsed": false
   }
  },
  {
   "cell_type": "markdown",
   "source": [
    "#### Вероятность того, что выстрел произведен спортсменом 2:"
   ],
   "metadata": {
    "collapsed": false
   }
  },
  {
   "cell_type": "code",
   "execution_count": 94,
   "outputs": [
    {
     "name": "stdout",
     "output_type": "stream",
     "text": [
      "0.3478260869565218\n",
      "34.8%\n"
     ]
    }
   ],
   "source": [
    "z3_PB2A = (z3_B2 * z3_p2)/z3_PA\n",
    "print(f'{z3_PB2A}\\n{round(z3_PB2A, 3) * 100}%')"
   ],
   "metadata": {
    "collapsed": false
   }
  },
  {
   "cell_type": "markdown",
   "source": [
    "#### Вероятность того, что выстрел произведен спортсменом 3:"
   ],
   "metadata": {
    "collapsed": false
   }
  },
  {
   "cell_type": "code",
   "execution_count": 95,
   "outputs": [
    {
     "name": "stdout",
     "output_type": "stream",
     "text": [
      "0.2608695652173913\n",
      "26.1%\n"
     ]
    }
   ],
   "source": [
    "z3_PB3A = (z3_B3 * z3_p3)/z3_PA\n",
    "print(f'{z3_PB3A}\\n{round(z3_PB3A, 3) * 100}%')"
   ],
   "metadata": {
    "collapsed": false
   }
  },
  {
   "cell_type": "markdown",
   "source": [
    "## Задача №4"
   ],
   "metadata": {
    "collapsed": false
   }
  },
  {
   "cell_type": "markdown",
   "source": [
    "_В университет на факультеты A и B поступило равное количество студентов, а на факультет C студентов поступило столько же, сколько на A и B вместе.\n",
    "Вероятность того, что студент факультета A сдаст первую сессию, равна 0.8.\n",
    "Для студента факультета B эта вероятность равна 0.7, а для студента факультета C - 0.9.\n",
    "Студент сдал первую сессию. Какова вероятность, что он учится:\n",
    "а) на факультете A\n",
    "б) на факультете B\n",
    "в) на факультете C?_"
   ],
   "metadata": {
    "collapsed": false
   }
  },
  {
   "cell_type": "markdown",
   "source": [
    "Событие А - сдача сессии.\n",
    "B1, B2, B3 - сдача сессии студентами факультета А, В, С."
   ],
   "metadata": {
    "collapsed": false
   }
  },
  {
   "cell_type": "code",
   "execution_count": 96,
   "outputs": [],
   "source": [
    "z4_p1 = 0.8\n",
    "z4_p2 = 0.7\n",
    "z4_p3 = 0.9\n",
    "z4_B1 = 1/4\n",
    "z4_B2 = 1/4\n",
    "z4_B3 = 2/4"
   ],
   "metadata": {
    "collapsed": false
   }
  },
  {
   "cell_type": "markdown",
   "source": [
    "#### Вероятность сдачи экзамена:"
   ],
   "metadata": {
    "collapsed": false
   }
  },
  {
   "cell_type": "code",
   "execution_count": 97,
   "outputs": [
    {
     "name": "stdout",
     "output_type": "stream",
     "text": [
      "Вероятность сдачи экзамена: 0.825%\n"
     ]
    }
   ],
   "source": [
    "z4_PA = z4_B1 * z4_p1 + z4_B2 * z4_p2 + z4_B3 * z4_p3\n",
    "print(f'Вероятность сдачи экзамена: {z4_PA}%')"
   ],
   "metadata": {
    "collapsed": false
   }
  },
  {
   "cell_type": "markdown",
   "source": [
    "Воспользуемся формулой Байеса для полной вероятности."
   ],
   "metadata": {
    "collapsed": false
   }
  },
  {
   "cell_type": "markdown",
   "source": [
    "#### Вероятность того, что студент сдавший сессию учится на факультете А:"
   ],
   "metadata": {
    "collapsed": false
   }
  },
  {
   "cell_type": "code",
   "execution_count": 98,
   "outputs": [
    {
     "name": "stdout",
     "output_type": "stream",
     "text": [
      "0.24242424242424246\n",
      "24.2%\n"
     ]
    }
   ],
   "source": [
    "z4_PB1A = (z4_B1 * z4_p1)/z4_PA\n",
    "print(f'{z4_PB1A}\\n{round(z4_PB1A, 3) * 100}%')"
   ],
   "metadata": {
    "collapsed": false
   }
  },
  {
   "cell_type": "markdown",
   "source": [
    "#### Вероятность того, что студент сдавший сессию учится на факультете B:"
   ],
   "metadata": {
    "collapsed": false
   }
  },
  {
   "cell_type": "code",
   "execution_count": 99,
   "outputs": [
    {
     "name": "stdout",
     "output_type": "stream",
     "text": [
      "0.21212121212121213\n",
      "21.2%\n"
     ]
    }
   ],
   "source": [
    "z4_PB2A = (z4_B2 * z4_p2)/z4_PA\n",
    "print(f'{z4_PB2A}\\n{round(z4_PB2A, 3) * 100}%')"
   ],
   "metadata": {
    "collapsed": false
   }
  },
  {
   "cell_type": "markdown",
   "source": [
    "#### Вероятность того, что студент сдавший сессию учится на факультете C:"
   ],
   "metadata": {
    "collapsed": false
   }
  },
  {
   "cell_type": "code",
   "execution_count": 100,
   "outputs": [
    {
     "name": "stdout",
     "output_type": "stream",
     "text": [
      "0.5454545454545455\n",
      "54.55%\n"
     ]
    }
   ],
   "source": [
    "z4_PB3A = (z4_B3 * z4_p3)/z4_PA\n",
    "print(f'{z4_PB3A}\\n{round(z4_PB3A, 4) * 100}%')"
   ],
   "metadata": {
    "collapsed": false
   }
  },
  {
   "cell_type": "markdown",
   "source": [
    "## Задача №5"
   ],
   "metadata": {
    "collapsed": false
   }
  },
  {
   "cell_type": "markdown",
   "source": [
    "_Устройство состоит из трех деталей.\n",
    "Для первой детали вероятность выйти из строя в первый месяц равна 0.1, для второй - 0.2, для третьей - 0.25.\n",
    "Какова вероятность того, что в первый месяц выйдут из строя:\n",
    "а) все детали\n",
    "б) только две детали\n",
    "в) хотя бы одна деталь\n",
    "г) от одной до двух деталей?_"
   ],
   "metadata": {
    "collapsed": false
   }
  },
  {
   "cell_type": "code",
   "execution_count": 101,
   "outputs": [],
   "source": [
    "z5_p1 = 0.1\n",
    "z5_p2 = 0.2\n",
    "z5_p3 = 0.25\n",
    "z5_q1 = 1 - z5_p1\n",
    "z5_q2 = 1 - z5_p2\n",
    "z5_q3 = 1 - z5_p3"
   ],
   "metadata": {
    "collapsed": false
   }
  },
  {
   "cell_type": "markdown",
   "source": [
    "#### Вероятность того, что в первый месяц выйдут из строя все детали:"
   ],
   "metadata": {
    "collapsed": false
   }
  },
  {
   "cell_type": "markdown",
   "source": [
    "Первая и Вторая и Третья"
   ],
   "metadata": {
    "collapsed": false
   }
  },
  {
   "cell_type": "code",
   "execution_count": 102,
   "outputs": [
    {
     "name": "stdout",
     "output_type": "stream",
     "text": [
      "0.005000000000000001\n",
      "0.5%\n"
     ]
    }
   ],
   "source": [
    "z5P1 = z5_p1 * z5_p2 * z5_p3\n",
    "print(f'{z5P1}\\n{round(z5P1, 3) * 100}%')"
   ],
   "metadata": {
    "collapsed": false
   }
  },
  {
   "cell_type": "markdown",
   "source": [
    "#### Вероятность того, что в первый месяц выйдут из строя только две детали:"
   ],
   "metadata": {
    "collapsed": false
   }
  },
  {
   "cell_type": "markdown",
   "source": [
    "(Первая и Вторая) или (Первая и Третья) или (Вторая и Третья)"
   ],
   "metadata": {
    "collapsed": false
   }
  },
  {
   "cell_type": "code",
   "execution_count": 103,
   "outputs": [
    {
     "name": "stdout",
     "output_type": "stream",
     "text": [
      "0.08000000000000002\n",
      "8.0%\n"
     ]
    }
   ],
   "source": [
    "z5P2 = (z5_p1 * z5_p2 * z5_q3) + (z5_p1 * z5_q2 * z5_p3) + (z5_q1 * z5_p2 * z5_p3)\n",
    "print(f'{z5P2}\\n{round(z5P2, 3) * 100}%')"
   ],
   "metadata": {
    "collapsed": false
   }
  },
  {
   "cell_type": "markdown",
   "source": [
    "#### Вероятность того, что в первый месяц выйдет из строя хотя бы одна деталь:"
   ],
   "metadata": {
    "collapsed": false
   }
  },
  {
   "cell_type": "markdown",
   "source": [
    "из 100% вычитаем вероятность, что все 3 детали не вышли из строя (вероятность наступления противоположного события):"
   ],
   "metadata": {
    "collapsed": false
   }
  },
  {
   "cell_type": "code",
   "execution_count": 104,
   "outputs": [
    {
     "name": "stdout",
     "output_type": "stream",
     "text": [
      "0.45999999999999996\n",
      "46.0%\n"
     ]
    }
   ],
   "source": [
    "z5P3 = 1 - (z5_q1 * z5_q2 * z5_q3)\n",
    "print(f'{z5P3}\\n{round(z5P3, 3) * 100}%')"
   ],
   "metadata": {
    "collapsed": false
   }
  },
  {
   "cell_type": "markdown",
   "source": [
    "#### Вероятность того, что в первый месяц выйдут из строя от одной до двух деталей:"
   ],
   "metadata": {
    "collapsed": false
   }
  },
  {
   "cell_type": "markdown",
   "source": [
    "Из 100% вычитаем вероятность, что все 3 детали вышли из строя и что все 3 детали не вышли из строя:"
   ],
   "metadata": {
    "collapsed": false
   }
  },
  {
   "cell_type": "code",
   "execution_count": 105,
   "outputs": [
    {
     "name": "stdout",
     "output_type": "stream",
     "text": [
      "0.45499999999999996\n",
      "45.5%\n"
     ]
    }
   ],
   "source": [
    "z5P4 = 1 - (z5_p1 * z5_p2 * z5_p3) - (z5_q1 * z5_q2 * z5_q3)\n",
    "print(f'{z5P4}\\n{round(z5P4, 3) * 100}%')"
   ],
   "metadata": {
    "collapsed": false
   }
  }
 ],
 "metadata": {
  "kernelspec": {
   "display_name": "Python 3",
   "language": "python",
   "name": "python3"
  },
  "language_info": {
   "codemirror_mode": {
    "name": "ipython",
    "version": 2
   },
   "file_extension": ".py",
   "mimetype": "text/x-python",
   "name": "python",
   "nbconvert_exporter": "python",
   "pygments_lexer": "ipython2",
   "version": "2.7.6"
  }
 },
 "nbformat": 4,
 "nbformat_minor": 0
}
