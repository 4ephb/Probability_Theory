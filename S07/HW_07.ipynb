{
 "cells": [
  {
   "cell_type": "markdown",
   "source": [
    "# Урок 7. Непараметрические тесты"
   ],
   "metadata": {
    "collapsed": false
   }
  },
  {
   "cell_type": "markdown",
   "source": [
    "Импорт необходимых библиотек:"
   ],
   "metadata": {
    "collapsed": false
   }
  },
  {
   "cell_type": "code",
   "execution_count": 37,
   "outputs": [],
   "source": [
    "import numpy as np\n",
    "import scipy.stats as stats\n",
    "import matplotlib.pyplot as plt"
   ],
   "metadata": {
    "collapsed": false
   }
  },
  {
   "cell_type": "markdown",
   "source": [
    "## Задача №1"
   ],
   "metadata": {
    "collapsed": false
   }
  },
  {
   "cell_type": "markdown",
   "source": [
    "_Выбрать тест и проверить, есть ли различия между выборками:_\n",
    "_Даны две независимые выборки. Не соблюдается условие нормальности\n",
    "x1 **380, 420, 290**\n",
    "y1 **140, 360, 200, 900**\n",
    "Сделайте вывод по результатам, полученным с помощью функции_"
   ],
   "metadata": {
    "collapsed": false
   }
  },
  {
   "cell_type": "code",
   "execution_count": 50,
   "outputs": [
    {
     "name": "stdout",
     "output_type": "stream",
     "text": [
      "Статистика: 8.00\n",
      "Р-value: 0.629\n",
      "Нулевая гипотеза подтверждается, статистически значимых различий нет.\n"
     ]
    }
   ],
   "source": [
    "alpha = 0.05\n",
    "x_array = np.array([380, 420, 290])\n",
    "y_array = np.array([140, 360, 200, 900])\n",
    "d = stats.mannwhitneyu(x_array, y_array)\n",
    "stat, p_val = stats.mannwhitneyu(x_array, y_array)\n",
    "\n",
    "print('Статистика: %.2f\\nР-value: %.3f' % d)\n",
    "\n",
    "if p_val > alpha:\n",
    "    print('Нулевая гипотеза подтверждается, статистически значимых различий нет.')\n",
    "else:\n",
    "    print('Верна альтернативная гипотеза, статистически значимые различия есть.')"
   ],
   "metadata": {
    "collapsed": false
   }
  },
  {
   "cell_type": "markdown",
   "source": [
    "## Задача №2"
   ],
   "metadata": {
    "collapsed": false
   }
  },
  {
   "cell_type": "markdown",
   "source": [
    "_Исследовалось влияние препарата на уровень давления пациентов. Сначала измерялось давление до приема препарата, потом через 10 минут и через 30 минут. Есть ли статистически значимые различия?_\n",
    "\n",
    "_1е измерение до приема препарата: **150, 160, 165, 145, 155**\n",
    "2е измерение через 10 минут: **140, 155, 150,  130, 135**\n",
    "3е измерение через 30 минут: **130, 130, 120, 130, 125**_"
   ],
   "metadata": {
    "collapsed": false
   }
  },
  {
   "cell_type": "code",
   "execution_count": 51,
   "outputs": [
    {
     "name": "stdout",
     "output_type": "stream",
     "text": [
      "Статистика: 9.58\n",
      "Р-value: 0.008\n",
      "Верна альтернативная гипотеза, статистически значимые различия есть.\n"
     ]
    }
   ],
   "source": [
    "alpha = 0.05\n",
    "x_array_1 = np.array([150, 160, 165, 145, 155])\n",
    "x_array_2 = np.array([140, 155, 150, 130, 135])\n",
    "x_array_3 = np.array([130, 130, 120, 130, 125])\n",
    "d = stats.friedmanchisquare(x_array_1, x_array_2, x_array_3)\n",
    "stat, p_val = stats.friedmanchisquare(x_array_1, x_array_2, x_array_3)\n",
    "\n",
    "print('Статистика: %.2f\\nР-value: %.3f' % d)\n",
    "\n",
    "if p_val > alpha:\n",
    "    print('Нулевая гипотеза подтверждается, статистически значимых различий нет.')\n",
    "else:\n",
    "    print('Верна альтернативная гипотеза, статистически значимые различия есть.')"
   ],
   "metadata": {
    "collapsed": false
   }
  },
  {
   "cell_type": "markdown",
   "source": [
    "# Задача №3"
   ],
   "metadata": {
    "collapsed": false
   }
  },
  {
   "cell_type": "markdown",
   "source": [
    "_Сравните 1 и 2-е измерения, предполагая, что 3-го измерения через 30 минут не было._"
   ],
   "metadata": {
    "collapsed": false
   }
  },
  {
   "cell_type": "code",
   "execution_count": 52,
   "outputs": [
    {
     "name": "stdout",
     "output_type": "stream",
     "text": [
      "Статистика: 0.00\n",
      "Р-value: 0.062\n",
      "Нулевая гипотеза подтверждается, статистически значимых различий нет.\n"
     ]
    }
   ],
   "source": [
    "alpha = 0.05\n",
    "x_array_1 = np.array([150, 160, 165, 145, 155])\n",
    "x_array_2 = np.array([140, 155, 150, 130, 135])\n",
    "d = stats.wilcoxon(x_array_1, x_array_2)\n",
    "stat, p_val = stats.wilcoxon(x_array_1, x_array_2)\n",
    "\n",
    "print('Статистика: %.2f\\nР-value: %.3f' % d)\n",
    "\n",
    "if p_val > alpha:\n",
    "    print('Нулевая гипотеза подтверждается, статистически значимых различий нет.')\n",
    "else:\n",
    "    print('Верна альтернативная гипотеза, статистически значимые различия есть')"
   ],
   "metadata": {
    "collapsed": false
   }
  },
  {
   "cell_type": "markdown",
   "source": [
    "# Задача №4"
   ],
   "metadata": {
    "collapsed": false
   }
  },
  {
   "cell_type": "markdown",
   "source": [
    "_Даны 3 группы учеников плавания.\n",
    "В 1 группе время на дистанцию 50 м составляют: **56, 60, 62, 55, 71, 67, 59, 58, 64, 67**\n",
    "Вторая группа : **57, 58, 69, 48, 72, 70, 68, 71, 50, 53**\n",
    "Третья группа: **57, 67, 49, 48, 47, 55, 66, 51, 54**_"
   ],
   "metadata": {
    "collapsed": false
   }
  },
  {
   "cell_type": "code",
   "execution_count": 53,
   "outputs": [
    {
     "name": "stdout",
     "output_type": "stream",
     "text": [
      "Статистика: 5.47\n",
      "Р-value: 0.065\n",
      "Нулевая гипотеза подтверждается, статистически значимых различий нет.\n"
     ]
    }
   ],
   "source": [
    "alpha = 0.05\n",
    "x_array_1 = np.array([56, 60, 62, 55, 71, 67, 59, 58, 64, 67])\n",
    "x_array_2 = np.array([57, 58, 69, 48, 72, 70, 68, 71, 50, 53])\n",
    "x_array_3 = np.array([57, 67, 49, 48, 47, 55, 66, 51, 54])\n",
    "d = stats.kruskal(x_array_1, x_array_2, x_array_3)\n",
    "stat, p_val = stats.kruskal(x_array_1, x_array_2, x_array_3)\n",
    "\n",
    "print('Статистика: %.2f\\nР-value: %.3f' % d)\n",
    "\n",
    "if p_val > alpha:\n",
    "    print('Нулевая гипотеза подтверждается, статистически значимых различий нет.')\n",
    "else:\n",
    "    print('Верна альтернативная гипотеза, статистически значимые различия есть')"
   ],
   "metadata": {
    "collapsed": false
   }
  },
  {
   "cell_type": "markdown",
   "source": [
    "# Задача №5"
   ],
   "metadata": {
    "collapsed": false
   }
  },
  {
   "cell_type": "markdown",
   "source": [
    "_Заявляется, что партия изготавливается со средним арифметическим 2,5 см.\n",
    "Проверить данную гипотезу, если известно, что размеры изделий подчинены нормальному закону распределения.\n",
    "Объем выборки 10, уровень статистической значимости 5%._\n",
    "- **2.51, 2.35, 2.74, 2.56, 2.40, 2.36, 2.65, 2.7, 2.67, 2.34**"
   ],
   "metadata": {
    "collapsed": false
   }
  },
  {
   "cell_type": "markdown",
   "source": [
    "Формируем нулевую гипотезу: средний размер изделий равен 2.5 см.\n",
    "- H<sub>0</sub> = 2.5  -  _нулевая гипотеза_\n",
    "\n",
    "Формируем альтернативную гипотезу: средний размер изделий не равен 2.5 см.\n",
    "- H<sub>1</sub> ≠ 2.5  -  _альтернативная гипотеза_"
   ],
   "metadata": {
    "collapsed": false
   }
  },
  {
   "cell_type": "markdown",
   "source": [
    "### Данные:"
   ],
   "metadata": {
    "collapsed": false
   }
  },
  {
   "cell_type": "code",
   "execution_count": 42,
   "outputs": [],
   "source": [
    "data = [2.51, 2.35, 2.74, 2.56, 2.40, 2.36, 2.65, 2.7, 2.67, 2.34]  # выборка\n",
    "alpha = 0.05  # уровень статистической значимости\n",
    "n = len(data)  # размер выборки"
   ],
   "metadata": {
    "collapsed": false
   }
  },
  {
   "cell_type": "markdown",
   "source": [
    "Для проверки гипотезы о том, что партия имеет среднее арифметическое 2,5 см, мы можем использовать одновыборочный t-тест.\n",
    "Сперва необходимо рассчитать выборочное среднее и выборочное стандартное отклонение:"
   ],
   "metadata": {
    "collapsed": false
   }
  },
  {
   "cell_type": "markdown",
   "source": [
    "### Выборочное среднее:"
   ],
   "metadata": {
    "collapsed": false
   }
  },
  {
   "cell_type": "code",
   "execution_count": 43,
   "outputs": [
    {
     "name": "stdout",
     "output_type": "stream",
     "text": [
      "m = (2.51 + 2.35 + 2.74 + 2.56 + 2.40 + 2.36 + 2.65 + 2.7 + 2.67 + 2.34) / 10\n",
      "m = 2.528\n"
     ]
    }
   ],
   "source": [
    "mean = np.mean(data)  # Выборочное среднее (m)\n",
    "print(f'm = (2.51 + 2.35 + 2.74 + 2.56 + 2.40 + 2.36 + 2.65 + 2.7 + 2.67 + 2.34) / {n}')\n",
    "print(f'm = {mean:.3f}')"
   ],
   "metadata": {
    "collapsed": false
   }
  },
  {
   "cell_type": "markdown",
   "source": [
    "### Стандартное отклонение выборки:"
   ],
   "metadata": {
    "collapsed": false
   }
  },
  {
   "cell_type": "code",
   "execution_count": 44,
   "outputs": [
    {
     "name": "stdout",
     "output_type": "stream",
     "text": [
      "s = sqrt(((2.51 - 2.528)**2 + (2.35 - 2.528)**2 + (2.74 - 2.528)**2 + (2.56 - 2.528)**2 + (2.40 - 2.528)**2 + (2.36 - 2.528)**2 + (2.65 - 2.528)**2 + (2.7 - 2.528)**2 + (2.67 - 2.528)**2 + (2.34 - 2.528)**2) / (10 - 1))\n",
      "s = 0.157\n"
     ]
    }
   ],
   "source": [
    "std = np.std(data, ddof=1)  # Стандартное отклонение выборки (s)\n",
    "print(\n",
    "    f's = sqrt(((2.51 - {mean:.3f})**2 + (2.35 - {mean:.3f})**2 + (2.74 - {mean:.3f})**2 + (2.56 - {mean:.3f})**2 + (2.40 - {mean:.3f})**2 + (2.36 - {mean:.3f})**2 + (2.65 - {mean:.3f})**2 + (2.7 - {mean:.3f})**2 + (2.67 - {mean:.3f})**2 + (2.34 - {mean:.3f})**2) / ({n} - 1))')\n",
    "print(f's = {std:.3f}')"
   ],
   "metadata": {
    "collapsed": false
   }
  },
  {
   "cell_type": "markdown",
   "source": [
    "### t - статистическое:"
   ],
   "metadata": {
    "collapsed": false
   }
  },
  {
   "cell_type": "markdown",
   "source": [
    "Теперь мы можем рассчитать t-статистику:"
   ],
   "metadata": {
    "collapsed": false
   }
  },
  {
   "cell_type": "code",
   "execution_count": 54,
   "outputs": [
    {
     "name": "stdout",
     "output_type": "stream",
     "text": [
      "t_st = (2.528 - 2.5) / (0.157 / sqrt(10))\n",
      "t_st = 0.563\n"
     ]
    }
   ],
   "source": [
    "u = 2.5  # гипотетическое среднее значение\n",
    "\n",
    "t_stat = (mean - u) / (std / np.sqrt(n))  # t-статистическое (t_st)\n",
    "\n",
    "print(f't_st = ({mean:.3f} - {u}) / ({std:.3f} / sqrt({n}))')\n",
    "print(f't_st = {t_stat:.3f}')"
   ],
   "metadata": {
    "collapsed": false
   }
  },
  {
   "cell_type": "markdown",
   "source": [
    "### t - критическое:"
   ],
   "metadata": {
    "collapsed": false
   }
  },
  {
   "cell_type": "markdown",
   "source": [
    "Используя таблицу t-распределения со степенями свободы, равными f = n-1 = 9, и уровнем значимости 5%, мы можем найти критическое t-значение:"
   ],
   "metadata": {
    "collapsed": false
   }
  },
  {
   "cell_type": "code",
   "execution_count": 64,
   "outputs": [
    {
     "name": "stdout",
     "output_type": "stream",
     "text": [
      "t_cr = 1.833\n",
      "t-статистическое меньше t-критического, нулевая гипотеза не отвергается.\n",
      "Партия изготавливается со средним арифметическим 2,5 см.\n"
     ]
    }
   ],
   "source": [
    "t_critical = stats.t.ppf(1 - alpha, n - 1)  # критическое t-значение (t_cr)\n",
    "print(f't_cr = {t_critical:.3f}')\n",
    "\n",
    "# Если t-статистическое меньше t-критического, то гипотеза не отвергается.\n",
    "# Если t-статистика больше t-критического, то гипотеза отвергается.\n",
    "\n",
    "if t_stat < t_critical:\n",
    "    print(\"t-статистическое меньше t-критического, нулевая гипотеза не отвергается.\\nПартия изготавливается со средним арифметическим 2,5 см.\")\n",
    "else:\n",
    "    print(\"t-статистика больше t-критического, нулевая гипотеза отвергается.\\nПартия изготавливается со средним арифметическим не равным 2,5 см.\")"
   ],
   "metadata": {
    "collapsed": false
   }
  },
  {
   "cell_type": "markdown",
   "source": [
    "### Данные из расчётов:\n",
    "- Выборочное среднее: **2.528**\n",
    "- Стандартное отклонение выборки: **0.157**\n",
    "- t - статистическое: **0.563**\n",
    "- t - критическое: **1.833**"
   ],
   "metadata": {
    "collapsed": false
   }
  },
  {
   "cell_type": "markdown",
   "source": [
    "### Визуализация данных на графике:"
   ],
   "metadata": {
    "collapsed": false
   }
  },
  {
   "cell_type": "code",
   "execution_count": 56,
   "outputs": [
    {
     "data": {
      "text/plain": "<Figure size 640x480 with 1 Axes>",
      "image/png": "[encoded data removed]"
     },
     "metadata": {},
     "output_type": "display_data"
    }
   ],
   "source": [
    "x = np.linspace(-5, 5, 100)\n",
    "y = stats.t.pdf(x, 9)\n",
    "\n",
    "plt.plot(x, y, label=\"t - distribution\")\n",
    "plt.axvline(t_critical, color=\"red\", label=\"t - critical\")\n",
    "plt.axvline(t_stat, color=\"green\", label=\"t - statistic\")\n",
    "plt.grid(visible=True, axis='both')\n",
    "plt.legend()\n",
    "plt.show()"
   ],
   "metadata": {
    "collapsed": false
   }
  },
  {
   "cell_type": "markdown",
   "source": [
    "### Вывод:\n",
    "Поскольку абсолютное значение рассчитанной нами t-статистики (0,563) меньше критического t-значения (1,833), мы не можем отвергнуть нулевую гипотезу. Поэтому мы можем заключить, что нет достаточных доказательств, чтобы отвергнуть утверждение о том, что партия имеет среднее арифметическое 2,5 см на 5% уровне значимости."
   ],
   "metadata": {
    "collapsed": false
   }
  }
 ],
 "metadata": {
  "kernelspec": {
   "display_name": "Python 3",
   "language": "python",
   "name": "python3"
  },
  "language_info": {
   "codemirror_mode": {
    "name": "ipython",
    "version": 2
   },
   "file_extension": ".py",
   "mimetype": "text/x-python",
   "name": "python",
   "nbconvert_exporter": "python",
   "pygments_lexer": "ipython2",
   "version": "2.7.6"
  }
 },
 "nbformat": 4,
 "nbformat_minor": 0
}
