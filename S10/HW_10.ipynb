{
 "cells": [
  {
   "cell_type": "markdown",
   "source": [
    "# Урок 10. Дисперсионный анализ"
   ],
   "metadata": {
    "collapsed": false
   }
  },
  {
   "cell_type": "markdown",
   "source": [
    "Импорт необходимых библиотек:"
   ],
   "metadata": {
    "collapsed": false
   }
  },
  {
   "cell_type": "code",
   "execution_count": 54,
   "outputs": [],
   "source": [
    "import numpy as np\n",
    "from scipy import stats"
   ],
   "metadata": {
    "collapsed": false
   }
  },
  {
   "cell_type": "markdown",
   "source": [
    "## Задача №1"
   ],
   "metadata": {
    "collapsed": false
   }
  },
  {
   "cell_type": "markdown",
   "source": [
    "_Провести дисперсионный анализ для определения того, есть ли различия среднего роста среди взрослых футболистов, хоккеистов и штангистов.\n",
    "Даны значения роста в трех группах случайно выбранных спортсменов:\n",
    "Футболисты: **173, 175, 180, 178, 177, 185, 183, 182.**\n",
    "Хоккеисты: **177, 179, 180, 188, 177, 172, 171, 184, 180.**\n",
    "Штангисты: **172, 173, 169, 177, 166, 180, 178, 177, 172, 166, 170.**_"
   ],
   "metadata": {
    "collapsed": false
   }
  },
  {
   "cell_type": "code",
   "execution_count": 55,
   "outputs": [],
   "source": [
    "footballers_height = np.array([173, 175, 180, 178, 177, 185, 183, 182])\n",
    "hockey_players_height = np.array([177, 179, 180, 188, 177, 172, 171, 184, 180])\n",
    "weightlifters_height = np.array([172, 173, 169, 177, 166, 180, 178, 177, 172, 166, 170])"
   ],
   "metadata": {
    "collapsed": false
   }
  },
  {
   "cell_type": "code",
   "execution_count": 56,
   "outputs": [],
   "source": [
    "alpha = 0.05"
   ],
   "metadata": {
    "collapsed": false
   }
  },
  {
   "cell_type": "markdown",
   "source": [
    "#### Проверка данных на нормальность распределения"
   ],
   "metadata": {
    "collapsed": false
   }
  },
  {
   "cell_type": "code",
   "execution_count": 64,
   "outputs": [
    {
     "name": "stdout",
     "output_type": "stream",
     "text": [
      "Футболисты: stat_fb = 0.978, p_val_fb = 0.950\n",
      "Хоккеисты: stat_hp = 0.958, p_val_hp = 0.776\n",
      "Штангисты: stat_wl = 0.939, p_val_wl = 0.505\n"
     ]
    }
   ],
   "source": [
    "stat_fb, p_val_fb = stats.shapiro(footballers_height)\n",
    "print(f'Футболисты: stat_fb = {stat_fb:.3f}, p_val_fb = {p_val_fb:.3f}')\n",
    "stat_hp, p_val_hp = stats.shapiro(hockey_players_height)\n",
    "print(f'Хоккеисты: stat_hp = {stat_hp:.3f}, p_val_hp = {p_val_hp:.3f}')\n",
    "stat_wl, p_val_wl = stats.shapiro(weightlifters_height)\n",
    "print(f'Штангисты: stat_wl = {stat_wl:.3f}, p_val_wl = {p_val_wl:.3f}')"
   ],
   "metadata": {
    "collapsed": false
   }
  },
  {
   "cell_type": "code",
   "execution_count": 63,
   "outputs": [
    {
     "name": "stdout",
     "output_type": "stream",
     "text": [
      "Футболисты: (0.950 > 0.05) == True\n",
      "Хоккеисты: (0.776 > 0.05) == True\n",
      "Штангисты: (0.505 > 0.05) == True\n",
      "pvalue для каждой выборки больше alpha. Данные выборок имеют нормальное распределение.\n"
     ]
    }
   ],
   "source": [
    "print(f'Футболисты: ({p_val_fb:.3f} > {alpha}) == {p_val_fb > alpha}\\n'\n",
    "      f'Хоккеисты: ({p_val_hp:.3f} > {alpha}) == {p_val_hp > alpha}\\n'\n",
    "      f'Штангисты: ({p_val_wl:.3f} > {alpha}) == {p_val_wl > alpha}')\n",
    "if p_val_fb > alpha and p_val_hp > alpha and p_val_wl > alpha:\n",
    "    print('pvalue для каждой выборки больше alpha. Данные выборок имеют нормальное распределение.')\n",
    "else:\n",
    "    print('pvalue одной или нескольких выборок меньше alpha. Данные выборок не имеют нормального распределения.')"
   ],
   "metadata": {
    "collapsed": false
   }
  },
  {
   "cell_type": "markdown",
   "source": [
    "#### Проверка равенства дисперсий"
   ],
   "metadata": {
    "collapsed": false
   }
  },
  {
   "cell_type": "code",
   "execution_count": 59,
   "outputs": [
    {
     "name": "stdout",
     "output_type": "stream",
     "text": [
      "Спортсмены: stat_sportsmen = 0.464, p_val_sportsmen = 0.793\n"
     ]
    }
   ],
   "source": [
    "stat_sportsmen, p_val_sportsmen = stats.bartlett(footballers_height, hockey_players_height, weightlifters_height)\n",
    "print(f'Спортсмены: stat_sportsmen = {stat_sportsmen:.3f}, p_val_sportsmen = {p_val_sportsmen:.3f}')"
   ],
   "metadata": {
    "collapsed": false
   }
  },
  {
   "cell_type": "code",
   "execution_count": 65,
   "outputs": [
    {
     "name": "stdout",
     "output_type": "stream",
     "text": [
      "Спортсмены: (0.793 > 0.05) == True\n",
      "pvalue для каждой выборки больше alpha. Дисперсии равны.\n"
     ]
    }
   ],
   "source": [
    "print(f'Спортсмены: ({p_val_sportsmen:.3f} > {alpha}) == {p_val_sportsmen > alpha}')\n",
    "if p_val_sportsmen > alpha:\n",
    "    print('pvalue для каждой выборки больше alpha. Дисперсии равны.')\n",
    "else:\n",
    "    print('pvalue для каждой выборки меньше alpha. Дисперсии не равны.')"
   ],
   "metadata": {
    "collapsed": false
   }
  },
  {
   "cell_type": "markdown",
   "source": [
    "#### Однофакторный дисперсионный анализ"
   ],
   "metadata": {
    "collapsed": false
   }
  },
  {
   "cell_type": "markdown",
   "source": [
    "Формулировка гипотез:\n",
    "$H0:\\mu_{1}=\\mu_{2}=\\mu_{3}$    -    __Футболисты, хоккеисты и штангисты не имеют существенных различий в росте.__\n",
    "$H1:\\mu_{1}\\neq\\mu_{2}\\neq\\mu_{3}$    -    __Футболисты, хоккеисты и штангисты имеют существенные различия в росте.__"
   ],
   "metadata": {
    "collapsed": false
   }
  },
  {
   "cell_type": "code",
   "execution_count": 61,
   "outputs": [
    {
     "name": "stdout",
     "output_type": "stream",
     "text": [
      "Средний рост спортсменов: stat_ua = 5.50005, p_val_ua = 0.01048\n"
     ]
    }
   ],
   "source": [
    "stat_ua, p_val_ua = stats.f_oneway(footballers_height, hockey_players_height, weightlifters_height)\n",
    "print(f'Средний рост спортсменов: stat_ua = {stat_ua:.5f}, p_val_ua = {p_val_ua:.5f}')"
   ],
   "metadata": {
    "collapsed": false
   }
  },
  {
   "cell_type": "markdown",
   "source": [
    "Получили значение $pvalue = 0.01048$ на уровне статистической значимости $\\alpha = 0.05$."
   ],
   "metadata": {
    "collapsed": false
   }
  },
  {
   "cell_type": "code",
   "execution_count": 67,
   "outputs": [
    {
     "name": "stdout",
     "output_type": "stream",
     "text": [
      "Средний рост спортсменов: (0.01048 > 0.05) == False\n",
      "Футболисты, хоккеисты и штангисты имеют существенные различия в росте.\n",
      "Нулевая гипотеза отвергается.\n"
     ]
    }
   ],
   "source": [
    "print(f'Средний рост спортсменов: ({p_val_ua:.5f} > {alpha}) == {p_val_ua > alpha}')\n",
    "if p_val_ua > alpha:\n",
    "    print('Футболисты, хоккеисты и штангисты не имеют существенных различий в росте.\\nНулевая гипотеза принимается.')\n",
    "else:\n",
    "    print('Футболисты, хоккеисты и штангисты имеют существенные различия в росте.\\nНулевая гипотеза отвергается.')"
   ],
   "metadata": {
    "collapsed": false
   }
  }
 ],
 "metadata": {
  "kernelspec": {
   "display_name": "Python 3",
   "language": "python",
   "name": "python3"
  },
  "language_info": {
   "codemirror_mode": {
    "name": "ipython",
    "version": 2
   },
   "file_extension": ".py",
   "mimetype": "text/x-python",
   "name": "python",
   "nbconvert_exporter": "python",
   "pygments_lexer": "ipython2",
   "version": "2.7.6"
  }
 },
 "nbformat": 4,
 "nbformat_minor": 0
}
